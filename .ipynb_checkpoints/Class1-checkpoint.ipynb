{
 "cells": [
  {
   "cell_type": "code",
   "execution_count": 5,
   "id": "bb9c0b71",
   "metadata": {},
   "outputs": [
    {
     "name": "stdout",
     "output_type": "stream",
     "text": [
      "h\n",
      "e\n",
      "l\n",
      "l\n",
      "o\n",
      ",\n",
      " \n",
      "w\n",
      "o\n",
      "r\n",
      "l\n",
      "d\n",
      "!\n"
     ]
    }
   ],
   "source": [
    "for letter in \"hello, world!\":\n",
    "    print(letter)"
   ]
  },
  {
   "cell_type": "markdown",
   "id": "d2b9f51d",
   "metadata": {},
   "source": [
    "# Problem 1\n",
    "### Given 2 strings (string_a and string_b) let's check whether or not they are anagrams of each other given the following criteria:\n",
    "\n",
    "> Two strings are only anagrams of each other if all conditions below are met:\n",
    "> * They must be exactly the same length.\n",
    "> * They must use exactly the same characters (no more, no less).\n",
    "\n",
    "```\n",
    "Example(s): cars and scar, heart and earth, etc.\n",
    "```"
   ]
  },
  {
   "cell_type": "code",
   "execution_count": 4,
   "id": "aaa3e3ac",
   "metadata": {},
   "outputs": [
    {
     "data": {
      "text/plain": [
       "True"
      ]
     },
     "execution_count": 4,
     "metadata": {},
     "output_type": "execute_result"
    }
   ],
   "source": [
    "def is_anagram(string_a,string_b):\n",
    "    stillOK = True\n",
    "    if len(string_a) != len(string_b):\n",
    "        stillOK = False\n",
    "\n",
    "    alist = list(string_b)\n",
    "    position_a = 0\n",
    "\n",
    "    while position_a < len(string_a) and stillOK:\n",
    "        position_b = 0\n",
    "        found = False\n",
    "        while position_b < len(alist) and not found:\n",
    "            if string_a[position_a] == alist[position_b]:\n",
    "                found = True\n",
    "            else:\n",
    "                position_b = position_b + 1\n",
    "\n",
    "        if found:\n",
    "            alist[position_b] = None\n",
    "        else:\n",
    "            stillOK = False\n",
    "\n",
    "        position_a = position_a + 1\n",
    "\n",
    "    return stillOK\n",
    "\n",
    "is_anagram(\"scar\", \"cars\")"
   ]
  },
  {
   "cell_type": "code",
   "execution_count": null,
   "id": "082daac7",
   "metadata": {},
   "outputs": [],
   "source": []
  }
 ],
 "metadata": {
  "kernelspec": {
   "display_name": "Python 3 (ipykernel)",
   "language": "python",
   "name": "python3"
  },
  "language_info": {
   "codemirror_mode": {
    "name": "ipython",
    "version": 3
   },
   "file_extension": ".py",
   "mimetype": "text/x-python",
   "name": "python",
   "nbconvert_exporter": "python",
   "pygments_lexer": "ipython3",
   "version": "3.8.10"
  }
 },
 "nbformat": 4,
 "nbformat_minor": 5
}
